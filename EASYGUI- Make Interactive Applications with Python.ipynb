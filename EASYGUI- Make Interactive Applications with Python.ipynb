{
 "cells": [
  {
   "cell_type": "markdown",
   "metadata": {},
   "source": [
    "# Introduction\n",
    "\n",
    "EasyGUI is a Tkinter  based Python module for very simple and easy GUI programming in Python. EasyGUI is NOT event-driven, All interactions are made by function calls which makes it easier to use.In this tutorial we will build a small application using EasyGUI and basic SQL commands"
   ]
  },
  {
   "cell_type": "markdown",
   "metadata": {},
   "source": [
    "# Installation\n",
    "\n",
    "Downaload the zipfile from http://easygui.sourceforge.net/sourceforge_site_as_of_2014_11_21/download/version_0.96/index.html\n",
    "\n",
    "## Installing EasyGui on Windows.\n",
    "Download the .zip file of your choice. Unpack the .zip file into a temporary directory<br>Open a console window (a \"DOS box\") and navigate to the temporary directory.<br>At the command prompt, enter the command:<br>`python  setup.py  install`\n",
    "\n",
    "## Installing EasyGui via apt-get on Debian or Ubuntu\n",
    "In Debian wheezy and Ubuntu Oneiric (11.10) EasyGui can be installed with: <br>\n",
    "`apt-get install python-easygui`"
   ]
  },
  {
   "cell_type": "markdown",
   "metadata": {},
   "source": [
    "# A simple ‘Hello World’ program\n",
    "Let us see how to write a simple program with easygui. Look at the code below. Msgbox will display a simple message on a window\n",
    "Run this code and see the output"
   ]
  },
  {
   "cell_type": "code",
   "execution_count": 59,
   "metadata": {},
   "outputs": [
    {
     "data": {
      "text/plain": [
       "'OK'"
      ]
     },
     "execution_count": 59,
     "metadata": {},
     "output_type": "execute_result"
    }
   ],
   "source": [
    "#import module\n",
    "from easygui import *\n",
    "#set message and title  \n",
    "msg=\"Hello World!\"\n",
    "title=\"Sample Program\"\n",
    "# a simple window showing a message, a title and a ‘Ok’ button\n",
    "msgbox(msg,title)"
   ]
  },
  {
   "cell_type": "markdown",
   "metadata": {},
   "source": [
    "Lets Explore some more options that you can use to develop the front end for your application."
   ]
  },
  {
   "cell_type": "markdown",
   "metadata": {},
   "source": [
    "## ynbox()\n",
    "This is a pre-defined button box which offers two buttons Yes and No. It is used when the user needs to choose between two alternatives. It returns 1 if ‘yes’ button is hit and 0 if ‘no’ button is hit.\n",
    "Run this code and see the output"
   ]
  },
  {
   "cell_type": "code",
   "execution_count": 6,
   "metadata": {},
   "outputs": [],
   "source": [
    "from easygui import *\n",
    "msg = \"Want to exit?\"\n",
    "title = \"Confirm\"\n",
    "ch=ynbox(msg, title)\n",
    "if ch==1:\n",
    "    exit(0)\n",
    "else:\n",
    "    msgbox(\"You have chosen to continue\")\n"
   ]
  },
  {
   "cell_type": "markdown",
   "metadata": {},
   "source": [
    "## ccbox()\n",
    "\n",
    "This is similar to ynbox. The difference is; instead of yes-no buttons it provides continue-cancel buttons. Similar to ynbox, this returns 1 for continue and 0 for cancel.<br>Run this code and see the output"
   ]
  },
  {
   "cell_type": "code",
   "execution_count": 2,
   "metadata": {
    "scrolled": true
   },
   "outputs": [],
   "source": [
    "from easygui import *\n",
    "import sys\n",
    "msg = \"Do you want to continue?\"\n",
    "title = \"Please Confirm\"\n",
    "if ccbox(msg, title):     # show a Continue/Cancel dialog\n",
    "    pass  # user chose Continue\n",
    "else:  # user chose Cancel\n",
    "    sys.exit(0)"
   ]
  },
  {
   "cell_type": "markdown",
   "metadata": {},
   "source": [
    "##  boolbox()\n",
    "boolbox() is a user-defined button box which have two user-defined buttons along with a message and a title. If the first button is chosen, it returns 1, else it returns 0.<br>Run this code and see the output"
   ]
  },
  {
   "cell_type": "code",
   "execution_count": null,
   "metadata": {},
   "outputs": [],
   "source": [
    "from easygui import *\n",
    "msg = \"Which is your favourite subject?\"\n",
    "title = \"My Chioce\"\n",
    "choices=['physics','Chemistry']\n",
    "choice=boolbox(msg, title,choices)\n",
    "if choice==1:\n",
    "    msgbox(\"Wow I too love physics!\")\n",
    "elif choice==0:\n",
    "    msgbox(\"Chemistry is cool\")"
   ]
  },
  {
   "cell_type": "markdown",
   "metadata": {},
   "source": [
    "## buttonbox()\n",
    "This can be used when the user needs to choose an option from a set of alternatives. This is a user-defined button set. When an option is selected, it returns the text in that button.<br>Run this code and see the output"
   ]
  },
  {
   "cell_type": "code",
   "execution_count": null,
   "metadata": {},
   "outputs": [],
   "source": [
    "from easygui import *\n",
    "msg = \"What is your favorite Subject\"\n",
    "title = \"Choose your favourite\"\n",
    "choices=['Physics','Chemistry','Maths','Other']\n",
    "choice=buttonbox(msg, title,choices)\n",
    "if choice=='Physics':\n",
    "    msgbox(\"I like physics\")\n",
    "elif choice=='Chemistry':\n",
    "    msgbox(\"I like Chemistry\")\n",
    "elif choice=='Maths':\n",
    "    msgbox(\"Math is fun\")\n",
    "elif choice=='Other':\n",
    "    msgbox(\"Ohh thats sad! Your favourite subject is not in the list\")"
   ]
  },
  {
   "cell_type": "markdown",
   "metadata": {},
   "source": [
    "Explore all the other options at :http://easygui.sourceforge.net/\n",
    "\n",
    "# SQLITE-BASIC COMMANDS\n",
    "\n",
    "SQLite is a software library that implements a self-contained, serverless, zero-configuration, transactional SQL database engine. SQLite is the most widely deployed SQL database engine in the world.\n",
    "The Python Standard Library includes a module called \"sqlite3\" intended for working with this database. So you dont have to install it seperately Lets see some basic commands used in SQlite"
   ]
  },
  {
   "cell_type": "markdown",
   "metadata": {},
   "source": [
    "## Importing Python's SQLite Module\n",
    "To use the SQLite3 module we need to add an import statement to our python script.Any program you write should have the import statement"
   ]
  },
  {
   "cell_type": "code",
   "execution_count": 3,
   "metadata": {},
   "outputs": [],
   "source": [
    "import sqlite3"
   ]
  },
  {
   "cell_type": "markdown",
   "metadata": {},
   "source": [
    "##  Connecting SQLite to the Database\n",
    "We use the function sqlite3.connect to connect to the database. We can use the argument \":memory:\" to create a temporary DB in the RAM or pass the name of a file to open or create it."
   ]
  },
  {
   "cell_type": "code",
   "execution_count": 5,
   "metadata": {},
   "outputs": [],
   "source": [
    "# Creates or opens a file called mydb with a SQLite3 DB\n",
    "db = sqlite3.connect('mydb')"
   ]
  },
  {
   "cell_type": "markdown",
   "metadata": {},
   "source": [
    "## Creating (CREATE) Tables\n",
    "In order to make any operation with the database we need to get a cursor object and pass the SQL statements to the cursor object to execute them. Finally it is necessary to commit the changes. We are going to create a users table with name, phone, email and password columns"
   ]
  },
  {
   "cell_type": "code",
   "execution_count": 6,
   "metadata": {},
   "outputs": [],
   "source": [
    "# Get a cursor object\n",
    "cursor = db.cursor()\n",
    "cursor.execute('''CREATE TABLE users(id INTEGER PRIMARY KEY, name TEXT,phone TEXT, email TEXT unique, password TEXT)''')\n",
    "db.commit()"
   ]
  },
  {
   "cell_type": "markdown",
   "metadata": {},
   "source": [
    "Inserting (INSERT) Data into the Database\n",
    "To insert data we use the cursor to execute the query. If you need values from Python variables it is recommended to use the \"?\" placeholder. Never use string operations or concatenation to make your queries because is very insecure. In this example we are going to insert two users in the database, their information is stored in python variables."
   ]
  },
  {
   "cell_type": "code",
   "execution_count": 39,
   "metadata": {},
   "outputs": [
    {
     "ename": "IntegrityError",
     "evalue": "UNIQUE constraint failed: users.email",
     "output_type": "error",
     "traceback": [
      "\u001b[0;31m---------------------------------------------------------------------------\u001b[0m",
      "\u001b[0;31mIntegrityError\u001b[0m                            Traceback (most recent call last)",
      "\u001b[0;32m<ipython-input-39-31da4ae88c9a>\u001b[0m in \u001b[0;36m<module>\u001b[0;34m()\u001b[0m\n\u001b[1;32m     14\u001b[0m \u001b[0;31m# Insert user 1\u001b[0m\u001b[0;34m\u001b[0m\u001b[0;34m\u001b[0m\u001b[0m\n\u001b[1;32m     15\u001b[0m cursor.execute('''INSERT INTO users(name, phone, email, password)\n\u001b[0;32m---> 16\u001b[0;31m                   VALUES(?,?,?,?)''', (name1,phone1, email1, password1))\n\u001b[0m\u001b[1;32m     17\u001b[0m \u001b[0mprint\u001b[0m\u001b[0;34m(\u001b[0m\u001b[0;34m'First user inserted'\u001b[0m\u001b[0;34m)\u001b[0m\u001b[0;34m\u001b[0m\u001b[0m\n\u001b[1;32m     18\u001b[0m  \u001b[0;31m# Insert user 2\u001b[0m\u001b[0;34m\u001b[0m\u001b[0;34m\u001b[0m\u001b[0m\n",
      "\u001b[0;31mIntegrityError\u001b[0m: UNIQUE constraint failed: users.email"
     ]
    }
   ],
   "source": [
    "import sqlite3\n",
    "cursor = db.cursor()\n",
    "name1 = 'Soumya'\n",
    "phone1 = '3366858'\n",
    "email1 = 'soumya@example1.com'\n",
    "# A very secure password\n",
    "password1 = '12345'\n",
    " \n",
    "name2 = 'Shiny'\n",
    "phone2 = '5557241'\n",
    "email2 = 'shiny@example2.com'\n",
    "password2 = 'abcdef'\n",
    " \n",
    "# Insert user 1\n",
    "cursor.execute('''INSERT INTO users(name, phone, email, password)\n",
    "                  VALUES(?,?,?,?)''', (name1,phone1, email1, password1))\n",
    "print('First user inserted')\n",
    " # Insert user 2\n",
    "cursor.execute('''INSERT INTO users(name, phone, email, password)\n",
    "                  VALUES(?,?,?,?)''', (name2,phone2, email2, password2))\n",
    "print('Second user inserted')\n",
    " \n",
    "db.commit()"
   ]
  },
  {
   "cell_type": "markdown",
   "metadata": {},
   "source": [
    "OR If you need to insert several users use executemany and a list with the tuples:\n",
    "\n",
    "\n",
    "users = [(name1,phone1, email1, password1),\n",
    "         (name2,phone2, email2, password2),\n",
    "         (name3,phone3, email3, password3)]\n",
    "cursor.executemany(''' INSERT INTO users(name, phone, email, password) VALUES(?,?,?,?)''', users)\n",
    "db.commit()\n",
    "\n",
    "\n",
    "OR using a dictionary\n",
    "\n",
    "cursor.execute('''INSERT INTO users(name, phone, email, password)\n",
    "                  VALUES(:name,:phone, :email, :password)''',\n",
    "                  {'name':name1, 'phone':phone1, 'email':email1, 'password':password1})\n",
    "                  "
   ]
  },
  {
   "cell_type": "markdown",
   "metadata": {},
   "source": [
    "## Retrieving Data (SELECT) with SQLite\n",
    "To retrieve data, execute the query against the cursor object and then use fetchone() to retrieve a single row or fetchall() to retrieve all the rows."
   ]
  },
  {
   "cell_type": "code",
   "execution_count": 8,
   "metadata": {},
   "outputs": [
    {
     "name": "stdout",
     "output_type": "stream",
     "text": [
      "The name of first user is Soumya\n"
     ]
    }
   ],
   "source": [
    "import sqlite3\n",
    "cursor = db.cursor()\n",
    "cursor.execute('''SELECT name, email, phone FROM users''')\n",
    "user1 = cursor.fetchone() #retrieve the first row\n",
    "print(\"The name of first user is\",user1[0]) #Print the first column retrieved(user's name)"
   ]
  },
  {
   "cell_type": "code",
   "execution_count": 28,
   "metadata": {},
   "outputs": [
    {
     "name": "stdout",
     "output_type": "stream",
     "text": [
      "The contact list\n",
      "\n",
      "Soumya \t soumya@example.com\t 8749238\n",
      "Shiny \t shiny@example.com\t 5557241\n"
     ]
    }
   ],
   "source": [
    "import sqlite3\n",
    "cursor = db.cursor()\n",
    "cursor.execute('''SELECT name, email, phone FROM users''')\n",
    "all_rows = cursor.fetchall()\n",
    "\n",
    "print (\"The contact list\\n\")\n",
    "for row in all_rows:\n",
    "    # row[0] returns the first column in the query (name), row[1] returns email column.\n",
    "    print('{0} \\t {1}\\t {2}'.format(row[0], row[1], row[2]))\n",
    "db.commit()"
   ]
  },
  {
   "cell_type": "code",
   "execution_count": 40,
   "metadata": {},
   "outputs": [
    {
     "name": "stdout",
     "output_type": "stream",
     "text": [
      "The updated list\n",
      "\n",
      "Soumya \t soumya@example.com\t 3366858\n",
      "Shiny \t shiny@example.com\t 2342358\n",
      "Soumya \t soumya@example1.com\t 3366858\n"
     ]
    }
   ],
   "source": [
    "import sqlite3\n",
    "cu= db.cursor()\n",
    "newphone = '2342358'\n",
    "userid = 2\n",
    "cu.execute('''UPDATE users SET phone = ? WHERE id = ? ''',(newphone,userid))\n",
    "cu.execute('''SELECT name, email, phone FROM users''')\n",
    "all_rows = cu.fetchall()\n",
    "\n",
    "print (\"The updated list\\n\")\n",
    "for row in all_rows:\n",
    "    # row[0] returns the first column in the query (name), row[1] returns email column.\n",
    "    print('{0} \\t {1}\\t {2}'.format(row[0], row[1], row[2]))\n",
    "db.commit()"
   ]
  },
  {
   "cell_type": "code",
   "execution_count": 44,
   "metadata": {},
   "outputs": [
    {
     "name": "stdout",
     "output_type": "stream",
     "text": [
      "The updated list\n",
      "\n",
      "Soumya \t soumya@example1.com\t 3366858\n"
     ]
    }
   ],
   "source": [
    " ### Delete user with id 2\n",
    "import sqlite3\n",
    "cu= db.cursor()\n",
    "delete_userid = 1\n",
    "cursor.execute('''DELETE FROM users WHERE id = ? ''', (delete_userid,))\n",
    "db.commit()\n",
    "cu.execute('''SELECT name, email, phone FROM users''')\n",
    "all_rows = cu.fetchall()\n",
    "print (\"The updated list\\n\")\n",
    "for row in all_rows:\n",
    "    # row[0] returns the first column in the query (name), row[1] returns email column.\n",
    "    print('{0} \\t {1}\\t {2}'.format(row[0], row[1], row[2]))\n",
    "db.commit()"
   ]
  },
  {
   "cell_type": "markdown",
   "metadata": {},
   "source": [
    "# To drop a table:\n",
    "\n",
    "\n",
    "`cursor.execute('''DROP TABLE users''')`\n"
   ]
  },
  {
   "cell_type": "markdown",
   "metadata": {},
   "source": [
    "# Task1: Create a simple contacts application using Easy GUI\n",
    "\n",
    "## Step1 : Adding Contacts\n",
    "\n",
    "A program to insert contacts to your database using EasyGui is given below.Run the code and see the output"
   ]
  },
  {
   "cell_type": "code",
   "execution_count": 58,
   "metadata": {
    "scrolled": false
   },
   "outputs": [
    {
     "name": "stdout",
     "output_type": "stream",
     "text": [
      "Reply was: ['hanu', '347856478']\n",
      "Your contact list \n",
      "\n",
      "ram \t 78\n",
      "minju \t 765879\n",
      "poonkavithai \t 14234523\n",
      "raj \t 734875\n",
      "kim \t 772368476\n",
      "roja \t 676578\n",
      "yarsi \t 7647489\n",
      "vasudev \t 456456\n",
      "ramya \t 786976789\n",
      "fg \t 67\n",
      "raman \t 4534\n",
      "geetha \t 6789\n",
      "hanu \t 347856478\n"
     ]
    }
   ],
   "source": [
    "import sqlite3\n",
    "import sys\n",
    "from easygui import *\n",
    "\n",
    "db = sqlite3.connect('test1')\n",
    "# Get a cursor object\n",
    "cursor = db.cursor()\n",
    "#cursor.execute('''    CREATE TABLE users(id INTEGER PRIMARY KEY, name TEXT,phone TEXT)''')\n",
    "#db.commit()\n",
    "\n",
    "def enbox():\n",
    "\tmsg= \"Enter your personal information\"\n",
    "\ttitle = \"Contact Application\"\n",
    "\tfieldNames = [\"Name\",\"Phone\"]\n",
    "\tusers = []  # we start with blanks for the values\n",
    "\tusers = multenterbox(msg,title, fieldNames)\n",
    "\tcursor.execute(''' INSERT INTO users(name, phone) VALUES(?,?)''',users)\n",
    "\tdb.commit()\n",
    "\tprint (\"Reply was:\", users)\n",
    "\n",
    "ynmsg=\" Do you want to continue \"\n",
    "title=\"Please confirm\"\n",
    "while True:\n",
    "\tenbox()\n",
    "\tif not ynbox(ynmsg,title):\n",
    "\t\t break\n",
    "\n",
    "cursor.execute('''SELECT name, phone FROM users''')\n",
    "user1 = cursor.fetchone() #retrieve the first row\n",
    "#print(user1[0]) #Print the first column retrieved(user's name)\n",
    "all_rows = cursor.fetchall()\n",
    "print (\"Your contact list \\n\")\n",
    "for row in all_rows:\n",
    "\n",
    "    # row[0] returns the first column in the query (name), row[1] returns email column.\n",
    "\tprint('{} \\t {}'.format(row[0], row[1]))"
   ]
  },
  {
   "cell_type": "markdown",
   "metadata": {},
   "source": [
    "# Task1: Create a simple contacts application using Easy GUI\n",
    "\n",
    "## Step2 : Searching Contacts\n",
    "\n",
    "A program to insert contacts to your database using EasyGui is given below. In case of duplicates it retrieves the first entry in the database.<br> Run the code and see the output"
   ]
  },
  {
   "cell_type": "code",
   "execution_count": 49,
   "metadata": {},
   "outputs": [
    {
     "data": {
      "text/plain": [
       "'OK'"
      ]
     },
     "execution_count": 49,
     "metadata": {},
     "output_type": "execute_result"
    }
   ],
   "source": [
    "import sqlite3\n",
    "import sys\n",
    "from easygui import *\n",
    "\n",
    "db = sqlite3.connect('test1')\n",
    "# Get a cursor object\n",
    "cursor = db.cursor()\n",
    "name=enterbox(\"Enter the name\")\n",
    "cursor.execute('''SELECT phone FROM users WHERE name=?''', (name,))\n",
    "user = cursor.fetchone()\n",
    "msgbox(\"The phone number is {}\".format(user))"
   ]
  },
  {
   "cell_type": "markdown",
   "metadata": {},
   "source": [
    "# Task1: Create a simple contacts application using Easy GUI\n",
    "\n",
    "## Step2 : Deleting Contacts\n",
    "\n",
    "A program to insert contacts to your database using EasyGui is given below. In case of duplicates it deletes all the data with given name.<br>Run the code and see the output"
   ]
  },
  {
   "cell_type": "code",
   "execution_count": 57,
   "metadata": {},
   "outputs": [
    {
     "name": "stdout",
     "output_type": "stream",
     "text": [
      "Your contact list \n",
      "\n",
      "ram \t78\n",
      "minju \t765879\n",
      "poonkavithai \t14234523\n",
      "raj \t734875\n",
      "kim \t772368476\n",
      "roja \t676578\n",
      "yarsi \t7647489\n",
      "vasudev \t456456\n",
      "ramya \t786976789\n",
      "fg \t67\n",
      "raman \t4534\n",
      "geetha \t6789\n"
     ]
    }
   ],
   "source": [
    "import sqlite3\n",
    "import sys\n",
    "from easygui import *\n",
    "delname=enterbox(\"Enter the name to be deleted\")\n",
    "cursor.execute('''DELETE FROM users WHERE name=?''',(delname,))\n",
    "msgbox(\"Contact successfully deleted\")\n",
    "db.commit()\n",
    "cursor.execute('''SELECT name, phone FROM users''')\n",
    "user1 = cursor.fetchone() #retrieve the first row\n",
    "#print(user1[0]) #Print the first column retrieved(user's name)\n",
    "all_rows = cursor.fetchall()\n",
    "print (\"Your contact list \\n\")\n",
    "for row in all_rows:\n",
    "\n",
    "    # row[0] returns the first column in the query (name), row[1] returns email column.\n",
    "\tprint('{} \\t{}'.format(row[0], row[1]))"
   ]
  },
  {
   "cell_type": "markdown",
   "metadata": {},
   "source": [
    "#  Do it now Excercise: Add an update phone number option also in the application"
   ]
  },
  {
   "cell_type": "markdown",
   "metadata": {},
   "source": [
    "# Task 2:\n",
    "\n",
    "Make a TO DO List Application with what you have learned\n"
   ]
  },
  {
   "cell_type": "code",
   "execution_count": null,
   "metadata": {},
   "outputs": [],
   "source": []
  }
 ],
 "metadata": {
  "kernelspec": {
   "display_name": "Python 3",
   "language": "python",
   "name": "python3"
  },
  "language_info": {
   "codemirror_mode": {
    "name": "ipython",
    "version": 3
   },
   "file_extension": ".py",
   "mimetype": "text/x-python",
   "name": "python",
   "nbconvert_exporter": "python",
   "pygments_lexer": "ipython3",
   "version": "3.6.5"
  }
 },
 "nbformat": 4,
 "nbformat_minor": 2
}
